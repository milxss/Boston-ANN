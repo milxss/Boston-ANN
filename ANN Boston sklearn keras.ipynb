{
  "nbformat": 4,
  "nbformat_minor": 0,
  "metadata": {
    "colab": {
      "name": "Untitled2.ipynb",
      "provenance": [],
      "authorship_tag": "ABX9TyMI4IIbgd3x3z8TLpBqDtpj"
    },
    "kernelspec": {
      "name": "python3",
      "display_name": "Python 3"
    }
  },
  "cells": [
    {
      "cell_type": "code",
      "metadata": {
        "id": "I2CeSRQRG1gM"
      },
      "source": [
        "import sklearn "
      ],
      "execution_count": 6,
      "outputs": []
    },
    {
      "cell_type": "code",
      "metadata": {
        "id": "nV7adWpkG8FJ"
      },
      "source": [
        "import pandas as pd"
      ],
      "execution_count": 7,
      "outputs": []
    },
    {
      "cell_type": "code",
      "metadata": {
        "id": "PLQ0okuyHmcH"
      },
      "source": [
        " from sklearn.datasets import load_boston #selling price of a given house in Boston (MA)"
      ],
      "execution_count": 9,
      "outputs": []
    },
    {
      "cell_type": "code",
      "metadata": {
        "id": "5ld3kxaSHuc4"
      },
      "source": [
        " X, y = load_boston(return_X_y=True)"
      ],
      "execution_count": 10,
      "outputs": []
    },
    {
      "cell_type": "code",
      "metadata": {
        "id": "rwYEkx0tH6cN"
      },
      "source": [
        "boston_dataset = load_boston()"
      ],
      "execution_count": 25,
      "outputs": []
    },
    {
      "cell_type": "code",
      "metadata": {
        "colab": {
          "base_uri": "https://localhost:8080/",
          "height": 359
        },
        "id": "T0IdGs-4IXYl",
        "outputId": "a057b388-4fa5-4df7-8448-2968c39cdff7"
      },
      "source": [
        "df = pd.DataFrame(boston_dataset.data, columns=boston_dataset.feature_names)  #we put it in pandas sataset \n",
        "df['Price'] = boston_dataset.target #our Y axis\n",
        "df.head(n=10) #first 10 rows"
      ],
      "execution_count": 33,
      "outputs": [
        {
          "output_type": "execute_result",
          "data": {
            "text/html": [
              "<div>\n",
              "<style scoped>\n",
              "    .dataframe tbody tr th:only-of-type {\n",
              "        vertical-align: middle;\n",
              "    }\n",
              "\n",
              "    .dataframe tbody tr th {\n",
              "        vertical-align: top;\n",
              "    }\n",
              "\n",
              "    .dataframe thead th {\n",
              "        text-align: right;\n",
              "    }\n",
              "</style>\n",
              "<table border=\"1\" class=\"dataframe\">\n",
              "  <thead>\n",
              "    <tr style=\"text-align: right;\">\n",
              "      <th></th>\n",
              "      <th>CRIM</th>\n",
              "      <th>ZN</th>\n",
              "      <th>INDUS</th>\n",
              "      <th>CHAS</th>\n",
              "      <th>NOX</th>\n",
              "      <th>RM</th>\n",
              "      <th>AGE</th>\n",
              "      <th>DIS</th>\n",
              "      <th>RAD</th>\n",
              "      <th>TAX</th>\n",
              "      <th>PTRATIO</th>\n",
              "      <th>B</th>\n",
              "      <th>LSTAT</th>\n",
              "      <th>Price</th>\n",
              "    </tr>\n",
              "  </thead>\n",
              "  <tbody>\n",
              "    <tr>\n",
              "      <th>0</th>\n",
              "      <td>0.00632</td>\n",
              "      <td>18.0</td>\n",
              "      <td>2.31</td>\n",
              "      <td>0.0</td>\n",
              "      <td>0.538</td>\n",
              "      <td>6.575</td>\n",
              "      <td>65.2</td>\n",
              "      <td>4.0900</td>\n",
              "      <td>1.0</td>\n",
              "      <td>296.0</td>\n",
              "      <td>15.3</td>\n",
              "      <td>396.90</td>\n",
              "      <td>4.98</td>\n",
              "      <td>24.0</td>\n",
              "    </tr>\n",
              "    <tr>\n",
              "      <th>1</th>\n",
              "      <td>0.02731</td>\n",
              "      <td>0.0</td>\n",
              "      <td>7.07</td>\n",
              "      <td>0.0</td>\n",
              "      <td>0.469</td>\n",
              "      <td>6.421</td>\n",
              "      <td>78.9</td>\n",
              "      <td>4.9671</td>\n",
              "      <td>2.0</td>\n",
              "      <td>242.0</td>\n",
              "      <td>17.8</td>\n",
              "      <td>396.90</td>\n",
              "      <td>9.14</td>\n",
              "      <td>21.6</td>\n",
              "    </tr>\n",
              "    <tr>\n",
              "      <th>2</th>\n",
              "      <td>0.02729</td>\n",
              "      <td>0.0</td>\n",
              "      <td>7.07</td>\n",
              "      <td>0.0</td>\n",
              "      <td>0.469</td>\n",
              "      <td>7.185</td>\n",
              "      <td>61.1</td>\n",
              "      <td>4.9671</td>\n",
              "      <td>2.0</td>\n",
              "      <td>242.0</td>\n",
              "      <td>17.8</td>\n",
              "      <td>392.83</td>\n",
              "      <td>4.03</td>\n",
              "      <td>34.7</td>\n",
              "    </tr>\n",
              "    <tr>\n",
              "      <th>3</th>\n",
              "      <td>0.03237</td>\n",
              "      <td>0.0</td>\n",
              "      <td>2.18</td>\n",
              "      <td>0.0</td>\n",
              "      <td>0.458</td>\n",
              "      <td>6.998</td>\n",
              "      <td>45.8</td>\n",
              "      <td>6.0622</td>\n",
              "      <td>3.0</td>\n",
              "      <td>222.0</td>\n",
              "      <td>18.7</td>\n",
              "      <td>394.63</td>\n",
              "      <td>2.94</td>\n",
              "      <td>33.4</td>\n",
              "    </tr>\n",
              "    <tr>\n",
              "      <th>4</th>\n",
              "      <td>0.06905</td>\n",
              "      <td>0.0</td>\n",
              "      <td>2.18</td>\n",
              "      <td>0.0</td>\n",
              "      <td>0.458</td>\n",
              "      <td>7.147</td>\n",
              "      <td>54.2</td>\n",
              "      <td>6.0622</td>\n",
              "      <td>3.0</td>\n",
              "      <td>222.0</td>\n",
              "      <td>18.7</td>\n",
              "      <td>396.90</td>\n",
              "      <td>5.33</td>\n",
              "      <td>36.2</td>\n",
              "    </tr>\n",
              "    <tr>\n",
              "      <th>5</th>\n",
              "      <td>0.02985</td>\n",
              "      <td>0.0</td>\n",
              "      <td>2.18</td>\n",
              "      <td>0.0</td>\n",
              "      <td>0.458</td>\n",
              "      <td>6.430</td>\n",
              "      <td>58.7</td>\n",
              "      <td>6.0622</td>\n",
              "      <td>3.0</td>\n",
              "      <td>222.0</td>\n",
              "      <td>18.7</td>\n",
              "      <td>394.12</td>\n",
              "      <td>5.21</td>\n",
              "      <td>28.7</td>\n",
              "    </tr>\n",
              "    <tr>\n",
              "      <th>6</th>\n",
              "      <td>0.08829</td>\n",
              "      <td>12.5</td>\n",
              "      <td>7.87</td>\n",
              "      <td>0.0</td>\n",
              "      <td>0.524</td>\n",
              "      <td>6.012</td>\n",
              "      <td>66.6</td>\n",
              "      <td>5.5605</td>\n",
              "      <td>5.0</td>\n",
              "      <td>311.0</td>\n",
              "      <td>15.2</td>\n",
              "      <td>395.60</td>\n",
              "      <td>12.43</td>\n",
              "      <td>22.9</td>\n",
              "    </tr>\n",
              "    <tr>\n",
              "      <th>7</th>\n",
              "      <td>0.14455</td>\n",
              "      <td>12.5</td>\n",
              "      <td>7.87</td>\n",
              "      <td>0.0</td>\n",
              "      <td>0.524</td>\n",
              "      <td>6.172</td>\n",
              "      <td>96.1</td>\n",
              "      <td>5.9505</td>\n",
              "      <td>5.0</td>\n",
              "      <td>311.0</td>\n",
              "      <td>15.2</td>\n",
              "      <td>396.90</td>\n",
              "      <td>19.15</td>\n",
              "      <td>27.1</td>\n",
              "    </tr>\n",
              "    <tr>\n",
              "      <th>8</th>\n",
              "      <td>0.21124</td>\n",
              "      <td>12.5</td>\n",
              "      <td>7.87</td>\n",
              "      <td>0.0</td>\n",
              "      <td>0.524</td>\n",
              "      <td>5.631</td>\n",
              "      <td>100.0</td>\n",
              "      <td>6.0821</td>\n",
              "      <td>5.0</td>\n",
              "      <td>311.0</td>\n",
              "      <td>15.2</td>\n",
              "      <td>386.63</td>\n",
              "      <td>29.93</td>\n",
              "      <td>16.5</td>\n",
              "    </tr>\n",
              "    <tr>\n",
              "      <th>9</th>\n",
              "      <td>0.17004</td>\n",
              "      <td>12.5</td>\n",
              "      <td>7.87</td>\n",
              "      <td>0.0</td>\n",
              "      <td>0.524</td>\n",
              "      <td>6.004</td>\n",
              "      <td>85.9</td>\n",
              "      <td>6.5921</td>\n",
              "      <td>5.0</td>\n",
              "      <td>311.0</td>\n",
              "      <td>15.2</td>\n",
              "      <td>386.71</td>\n",
              "      <td>17.10</td>\n",
              "      <td>18.9</td>\n",
              "    </tr>\n",
              "  </tbody>\n",
              "</table>\n",
              "</div>"
            ],
            "text/plain": [
              "      CRIM    ZN  INDUS  CHAS    NOX  ...    TAX  PTRATIO       B  LSTAT  Price\n",
              "0  0.00632  18.0   2.31   0.0  0.538  ...  296.0     15.3  396.90   4.98   24.0\n",
              "1  0.02731   0.0   7.07   0.0  0.469  ...  242.0     17.8  396.90   9.14   21.6\n",
              "2  0.02729   0.0   7.07   0.0  0.469  ...  242.0     17.8  392.83   4.03   34.7\n",
              "3  0.03237   0.0   2.18   0.0  0.458  ...  222.0     18.7  394.63   2.94   33.4\n",
              "4  0.06905   0.0   2.18   0.0  0.458  ...  222.0     18.7  396.90   5.33   36.2\n",
              "5  0.02985   0.0   2.18   0.0  0.458  ...  222.0     18.7  394.12   5.21   28.7\n",
              "6  0.08829  12.5   7.87   0.0  0.524  ...  311.0     15.2  395.60  12.43   22.9\n",
              "7  0.14455  12.5   7.87   0.0  0.524  ...  311.0     15.2  396.90  19.15   27.1\n",
              "8  0.21124  12.5   7.87   0.0  0.524  ...  311.0     15.2  386.63  29.93   16.5\n",
              "9  0.17004  12.5   7.87   0.0  0.524  ...  311.0     15.2  386.71  17.10   18.9\n",
              "\n",
              "[10 rows x 14 columns]"
            ]
          },
          "metadata": {
            "tags": []
          },
          "execution_count": 33
        }
      ]
    },
    {
      "cell_type": "code",
      "metadata": {
        "colab": {
          "base_uri": "https://localhost:8080/"
        },
        "id": "epK95CasI29w",
        "outputId": "6687af02-4dff-4700-8f83-291496031682"
      },
      "source": [
        "boston_dataset.feature_names"
      ],
      "execution_count": 30,
      "outputs": [
        {
          "output_type": "execute_result",
          "data": {
            "text/plain": [
              "array(['CRIM', 'ZN', 'INDUS', 'CHAS', 'NOX', 'RM', 'AGE', 'DIS', 'RAD',\n",
              "       'TAX', 'PTRATIO', 'B', 'LSTAT'], dtype='<U7')"
            ]
          },
          "metadata": {
            "tags": []
          },
          "execution_count": 30
        }
      ]
    },
    {
      "cell_type": "code",
      "metadata": {
        "colab": {
          "base_uri": "https://localhost:8080/",
          "height": 317
        },
        "id": "WsO2Hwc2Kmd0",
        "outputId": "0d41257a-ebcd-455e-f719-eaa7834f6d25"
      },
      "source": [
        "df.describe(include='all') #use this method to understand more data "
      ],
      "execution_count": 34,
      "outputs": [
        {
          "output_type": "execute_result",
          "data": {
            "text/html": [
              "<div>\n",
              "<style scoped>\n",
              "    .dataframe tbody tr th:only-of-type {\n",
              "        vertical-align: middle;\n",
              "    }\n",
              "\n",
              "    .dataframe tbody tr th {\n",
              "        vertical-align: top;\n",
              "    }\n",
              "\n",
              "    .dataframe thead th {\n",
              "        text-align: right;\n",
              "    }\n",
              "</style>\n",
              "<table border=\"1\" class=\"dataframe\">\n",
              "  <thead>\n",
              "    <tr style=\"text-align: right;\">\n",
              "      <th></th>\n",
              "      <th>CRIM</th>\n",
              "      <th>ZN</th>\n",
              "      <th>INDUS</th>\n",
              "      <th>CHAS</th>\n",
              "      <th>NOX</th>\n",
              "      <th>RM</th>\n",
              "      <th>AGE</th>\n",
              "      <th>DIS</th>\n",
              "      <th>RAD</th>\n",
              "      <th>TAX</th>\n",
              "      <th>PTRATIO</th>\n",
              "      <th>B</th>\n",
              "      <th>LSTAT</th>\n",
              "      <th>Price</th>\n",
              "    </tr>\n",
              "  </thead>\n",
              "  <tbody>\n",
              "    <tr>\n",
              "      <th>count</th>\n",
              "      <td>506.000000</td>\n",
              "      <td>506.000000</td>\n",
              "      <td>506.000000</td>\n",
              "      <td>506.000000</td>\n",
              "      <td>506.000000</td>\n",
              "      <td>506.000000</td>\n",
              "      <td>506.000000</td>\n",
              "      <td>506.000000</td>\n",
              "      <td>506.000000</td>\n",
              "      <td>506.000000</td>\n",
              "      <td>506.000000</td>\n",
              "      <td>506.000000</td>\n",
              "      <td>506.000000</td>\n",
              "      <td>506.000000</td>\n",
              "    </tr>\n",
              "    <tr>\n",
              "      <th>mean</th>\n",
              "      <td>3.613524</td>\n",
              "      <td>11.363636</td>\n",
              "      <td>11.136779</td>\n",
              "      <td>0.069170</td>\n",
              "      <td>0.554695</td>\n",
              "      <td>6.284634</td>\n",
              "      <td>68.574901</td>\n",
              "      <td>3.795043</td>\n",
              "      <td>9.549407</td>\n",
              "      <td>408.237154</td>\n",
              "      <td>18.455534</td>\n",
              "      <td>356.674032</td>\n",
              "      <td>12.653063</td>\n",
              "      <td>22.532806</td>\n",
              "    </tr>\n",
              "    <tr>\n",
              "      <th>std</th>\n",
              "      <td>8.601545</td>\n",
              "      <td>23.322453</td>\n",
              "      <td>6.860353</td>\n",
              "      <td>0.253994</td>\n",
              "      <td>0.115878</td>\n",
              "      <td>0.702617</td>\n",
              "      <td>28.148861</td>\n",
              "      <td>2.105710</td>\n",
              "      <td>8.707259</td>\n",
              "      <td>168.537116</td>\n",
              "      <td>2.164946</td>\n",
              "      <td>91.294864</td>\n",
              "      <td>7.141062</td>\n",
              "      <td>9.197104</td>\n",
              "    </tr>\n",
              "    <tr>\n",
              "      <th>min</th>\n",
              "      <td>0.006320</td>\n",
              "      <td>0.000000</td>\n",
              "      <td>0.460000</td>\n",
              "      <td>0.000000</td>\n",
              "      <td>0.385000</td>\n",
              "      <td>3.561000</td>\n",
              "      <td>2.900000</td>\n",
              "      <td>1.129600</td>\n",
              "      <td>1.000000</td>\n",
              "      <td>187.000000</td>\n",
              "      <td>12.600000</td>\n",
              "      <td>0.320000</td>\n",
              "      <td>1.730000</td>\n",
              "      <td>5.000000</td>\n",
              "    </tr>\n",
              "    <tr>\n",
              "      <th>25%</th>\n",
              "      <td>0.082045</td>\n",
              "      <td>0.000000</td>\n",
              "      <td>5.190000</td>\n",
              "      <td>0.000000</td>\n",
              "      <td>0.449000</td>\n",
              "      <td>5.885500</td>\n",
              "      <td>45.025000</td>\n",
              "      <td>2.100175</td>\n",
              "      <td>4.000000</td>\n",
              "      <td>279.000000</td>\n",
              "      <td>17.400000</td>\n",
              "      <td>375.377500</td>\n",
              "      <td>6.950000</td>\n",
              "      <td>17.025000</td>\n",
              "    </tr>\n",
              "    <tr>\n",
              "      <th>50%</th>\n",
              "      <td>0.256510</td>\n",
              "      <td>0.000000</td>\n",
              "      <td>9.690000</td>\n",
              "      <td>0.000000</td>\n",
              "      <td>0.538000</td>\n",
              "      <td>6.208500</td>\n",
              "      <td>77.500000</td>\n",
              "      <td>3.207450</td>\n",
              "      <td>5.000000</td>\n",
              "      <td>330.000000</td>\n",
              "      <td>19.050000</td>\n",
              "      <td>391.440000</td>\n",
              "      <td>11.360000</td>\n",
              "      <td>21.200000</td>\n",
              "    </tr>\n",
              "    <tr>\n",
              "      <th>75%</th>\n",
              "      <td>3.677083</td>\n",
              "      <td>12.500000</td>\n",
              "      <td>18.100000</td>\n",
              "      <td>0.000000</td>\n",
              "      <td>0.624000</td>\n",
              "      <td>6.623500</td>\n",
              "      <td>94.075000</td>\n",
              "      <td>5.188425</td>\n",
              "      <td>24.000000</td>\n",
              "      <td>666.000000</td>\n",
              "      <td>20.200000</td>\n",
              "      <td>396.225000</td>\n",
              "      <td>16.955000</td>\n",
              "      <td>25.000000</td>\n",
              "    </tr>\n",
              "    <tr>\n",
              "      <th>max</th>\n",
              "      <td>88.976200</td>\n",
              "      <td>100.000000</td>\n",
              "      <td>27.740000</td>\n",
              "      <td>1.000000</td>\n",
              "      <td>0.871000</td>\n",
              "      <td>8.780000</td>\n",
              "      <td>100.000000</td>\n",
              "      <td>12.126500</td>\n",
              "      <td>24.000000</td>\n",
              "      <td>711.000000</td>\n",
              "      <td>22.000000</td>\n",
              "      <td>396.900000</td>\n",
              "      <td>37.970000</td>\n",
              "      <td>50.000000</td>\n",
              "    </tr>\n",
              "  </tbody>\n",
              "</table>\n",
              "</div>"
            ],
            "text/plain": [
              "             CRIM          ZN       INDUS  ...           B       LSTAT       Price\n",
              "count  506.000000  506.000000  506.000000  ...  506.000000  506.000000  506.000000\n",
              "mean     3.613524   11.363636   11.136779  ...  356.674032   12.653063   22.532806\n",
              "std      8.601545   23.322453    6.860353  ...   91.294864    7.141062    9.197104\n",
              "min      0.006320    0.000000    0.460000  ...    0.320000    1.730000    5.000000\n",
              "25%      0.082045    0.000000    5.190000  ...  375.377500    6.950000   17.025000\n",
              "50%      0.256510    0.000000    9.690000  ...  391.440000   11.360000   21.200000\n",
              "75%      3.677083   12.500000   18.100000  ...  396.225000   16.955000   25.000000\n",
              "max     88.976200  100.000000   27.740000  ...  396.900000   37.970000   50.000000\n",
              "\n",
              "[8 rows x 14 columns]"
            ]
          },
          "metadata": {
            "tags": []
          },
          "execution_count": 34
        }
      ]
    },
    {
      "cell_type": "code",
      "metadata": {
        "id": "HFCDzGBRQp4h"
      },
      "source": [
        "import tensorflow\n",
        "import keras \n",
        "from tensorflow.keras.models import Sequential"
      ],
      "execution_count": 73,
      "outputs": []
    },
    {
      "cell_type": "markdown",
      "metadata": {
        "id": "wvbVqeUgXAGy"
      },
      "source": [
        "|we will create architecture, hyperparameters of our ANN"
      ]
    },
    {
      "cell_type": "code",
      "metadata": {
        "id": "U2F_fNNHR4Sl"
      },
      "source": [
        "model = Sequential()"
      ],
      "execution_count": 74,
      "outputs": []
    },
    {
      "cell_type": "code",
      "metadata": {
        "id": "sA1htMEHSLWI"
      },
      "source": [
        "from tensorflow.keras.layers import Dense"
      ],
      "execution_count": 75,
      "outputs": []
    },
    {
      "cell_type": "code",
      "metadata": {
        "id": "xrktlup6Sj_7"
      },
      "source": [
        "model.add(Dense(units=128, input_shape=(13, ),activation = 'relu', name='dense_layer1'))"
      ],
      "execution_count": 76,
      "outputs": []
    },
    {
      "cell_type": "code",
      "metadata": {
        "id": "iWOaHcOYS0Qk"
      },
      "source": [
        "model.add(Dense(units=64, input_shape=(13, ), activation = 'relu', name = 'dense_layer2'))"
      ],
      "execution_count": 77,
      "outputs": []
    },
    {
      "cell_type": "code",
      "metadata": {
        "id": "2XM7LibXWJum"
      },
      "source": [
        "model.add(Dense(1, activation = 'linear', name = 'dense_output')) #we have "
      ],
      "execution_count": 78,
      "outputs": []
    },
    {
      "cell_type": "code",
      "metadata": {
        "id": "ZTuFhbz5S_wA"
      },
      "source": [
        "model.compile(loss='mse',   #mean-squere error\n",
        "              optimizer= 'adam') #we want to use adam optimizer"
      ],
      "execution_count": 79,
      "outputs": []
    },
    {
      "cell_type": "code",
      "metadata": {
        "colab": {
          "base_uri": "https://localhost:8080/"
        },
        "id": "BX9RgZ7NWILM",
        "outputId": "d5cbf742-f770-4b1a-cc8b-6e3ab9c4f271"
      },
      "source": [
        "model.summary()"
      ],
      "execution_count": 80,
      "outputs": [
        {
          "output_type": "stream",
          "text": [
            "Model: \"sequential_2\"\n",
            "_________________________________________________________________\n",
            "Layer (type)                 Output Shape              Param #   \n",
            "=================================================================\n",
            "dense_layer1 (Dense)         (None, 128)               1792      \n",
            "_________________________________________________________________\n",
            "dense_layer2 (Dense)         (None, 64)                8256      \n",
            "_________________________________________________________________\n",
            "dense_output (Dense)         (None, 1)                 65        \n",
            "=================================================================\n",
            "Total params: 10,113\n",
            "Trainable params: 10,113\n",
            "Non-trainable params: 0\n",
            "_________________________________________________________________\n"
          ],
          "name": "stdout"
        }
      ]
    },
    {
      "cell_type": "code",
      "metadata": {
        "id": "ijAKIy-HTb9b"
      },
      "source": [
        "model.compile(loss=keras.losses.categorical_crossentropy, \n",
        "\n",
        "              optimizer = keras.optimizers.SGD(learning_rate = 0.01, momentum = 0.9))"
      ],
      "execution_count": 55,
      "outputs": []
    },
    {
      "cell_type": "code",
      "metadata": {
        "id": "WC_vtwYkVaa-"
      },
      "source": [
        "from sklearn.model_selection import train_test_split\n",
        "X = df.loc[:, df.columns != 'Price']\n",
        "y = df.loc[:, df.columns == 'Price']\n",
        "X_train, X_test, y_train, y_test = train_test_split(X, y, test_size=0.3, random_state=123)"
      ],
      "execution_count": 87,
      "outputs": []
    },
    {
      "cell_type": "code",
      "metadata": {
        "id": "DVBH4osIeZF6"
      },
      "source": [
        "mean = X_train.mean(axis=0)\n",
        "std = X_train.std(axis=0)\n",
        "X_train = (X_train - mean) / std\n",
        "X_test = (X_test - mean) / std"
      ],
      "execution_count": 93,
      "outputs": []
    },
    {
      "cell_type": "code",
      "metadata": {
        "id": "BcAd6orldaOM"
      },
      "source": [
        "#from sklearn import preprocessing\n",
        "#standard = preprocessing.scale(X)\n",
        "#print(standard)"
      ],
      "execution_count": 94,
      "outputs": []
    },
    {
      "cell_type": "code",
      "metadata": {
        "colab": {
          "base_uri": "https://localhost:8080/"
        },
        "id": "FsfNqAl-U4d3",
        "outputId": "ba2af450-4932-41c8-d128-24f8d91ae1d3"
      },
      "source": [
        "model.fit(X_train, y_train, epochs=100)"
      ],
      "execution_count": 102,
      "outputs": [
        {
          "output_type": "stream",
          "text": [
            "Epoch 1/100\n",
            "12/12 [==============================] - 0s 2ms/step - loss: 5.7391\n",
            "Epoch 2/100\n",
            "12/12 [==============================] - 0s 2ms/step - loss: 5.4750\n",
            "Epoch 3/100\n",
            "12/12 [==============================] - 0s 1ms/step - loss: 5.6136\n",
            "Epoch 4/100\n",
            "12/12 [==============================] - 0s 1ms/step - loss: 5.4613\n",
            "Epoch 5/100\n",
            "12/12 [==============================] - 0s 2ms/step - loss: 5.7148\n",
            "Epoch 6/100\n",
            "12/12 [==============================] - 0s 2ms/step - loss: 5.6533\n",
            "Epoch 7/100\n",
            "12/12 [==============================] - 0s 1ms/step - loss: 5.7856\n",
            "Epoch 8/100\n",
            "12/12 [==============================] - 0s 2ms/step - loss: 5.6389\n",
            "Epoch 9/100\n",
            "12/12 [==============================] - 0s 1ms/step - loss: 5.4829\n",
            "Epoch 10/100\n",
            "12/12 [==============================] - 0s 1ms/step - loss: 5.3572\n",
            "Epoch 11/100\n",
            "12/12 [==============================] - 0s 2ms/step - loss: 5.6785\n",
            "Epoch 12/100\n",
            "12/12 [==============================] - 0s 2ms/step - loss: 5.5164\n",
            "Epoch 13/100\n",
            "12/12 [==============================] - 0s 1ms/step - loss: 5.5167\n",
            "Epoch 14/100\n",
            "12/12 [==============================] - 0s 2ms/step - loss: 5.4331\n",
            "Epoch 15/100\n",
            "12/12 [==============================] - 0s 1ms/step - loss: 5.4152\n",
            "Epoch 16/100\n",
            "12/12 [==============================] - 0s 2ms/step - loss: 5.2753\n",
            "Epoch 17/100\n",
            "12/12 [==============================] - 0s 2ms/step - loss: 6.0688\n",
            "Epoch 18/100\n",
            "12/12 [==============================] - 0s 1ms/step - loss: 5.8086\n",
            "Epoch 19/100\n",
            "12/12 [==============================] - 0s 2ms/step - loss: 6.0814\n",
            "Epoch 20/100\n",
            "12/12 [==============================] - 0s 2ms/step - loss: 5.6171\n",
            "Epoch 21/100\n",
            "12/12 [==============================] - 0s 1ms/step - loss: 5.3720\n",
            "Epoch 22/100\n",
            "12/12 [==============================] - 0s 1ms/step - loss: 5.2426\n",
            "Epoch 23/100\n",
            "12/12 [==============================] - 0s 2ms/step - loss: 5.1888\n",
            "Epoch 24/100\n",
            "12/12 [==============================] - 0s 2ms/step - loss: 5.3964\n",
            "Epoch 25/100\n",
            "12/12 [==============================] - 0s 2ms/step - loss: 5.2486\n",
            "Epoch 26/100\n",
            "12/12 [==============================] - 0s 1ms/step - loss: 5.2495\n",
            "Epoch 27/100\n",
            "12/12 [==============================] - 0s 2ms/step - loss: 5.1677\n",
            "Epoch 28/100\n",
            "12/12 [==============================] - 0s 1ms/step - loss: 5.1351\n",
            "Epoch 29/100\n",
            "12/12 [==============================] - 0s 2ms/step - loss: 5.1370\n",
            "Epoch 30/100\n",
            "12/12 [==============================] - 0s 2ms/step - loss: 5.0841\n",
            "Epoch 31/100\n",
            "12/12 [==============================] - 0s 2ms/step - loss: 5.1322\n",
            "Epoch 32/100\n",
            "12/12 [==============================] - 0s 2ms/step - loss: 5.1482\n",
            "Epoch 33/100\n",
            "12/12 [==============================] - 0s 2ms/step - loss: 5.3112\n",
            "Epoch 34/100\n",
            "12/12 [==============================] - 0s 2ms/step - loss: 5.1805\n",
            "Epoch 35/100\n",
            "12/12 [==============================] - 0s 2ms/step - loss: 5.2459\n",
            "Epoch 36/100\n",
            "12/12 [==============================] - 0s 2ms/step - loss: 5.0963\n",
            "Epoch 37/100\n",
            "12/12 [==============================] - 0s 1ms/step - loss: 5.5691\n",
            "Epoch 38/100\n",
            "12/12 [==============================] - 0s 1ms/step - loss: 5.5684\n",
            "Epoch 39/100\n",
            "12/12 [==============================] - 0s 2ms/step - loss: 5.3936\n",
            "Epoch 40/100\n",
            "12/12 [==============================] - 0s 2ms/step - loss: 5.1273\n",
            "Epoch 41/100\n",
            "12/12 [==============================] - 0s 2ms/step - loss: 5.1778\n",
            "Epoch 42/100\n",
            "12/12 [==============================] - 0s 2ms/step - loss: 4.9693\n",
            "Epoch 43/100\n",
            "12/12 [==============================] - 0s 1ms/step - loss: 5.1849\n",
            "Epoch 44/100\n",
            "12/12 [==============================] - 0s 1ms/step - loss: 4.9921\n",
            "Epoch 45/100\n",
            "12/12 [==============================] - 0s 2ms/step - loss: 4.9708\n",
            "Epoch 46/100\n",
            "12/12 [==============================] - 0s 1ms/step - loss: 4.9586\n",
            "Epoch 47/100\n",
            "12/12 [==============================] - 0s 2ms/step - loss: 5.0022\n",
            "Epoch 48/100\n",
            "12/12 [==============================] - 0s 2ms/step - loss: 4.9440\n",
            "Epoch 49/100\n",
            "12/12 [==============================] - 0s 2ms/step - loss: 4.9090\n",
            "Epoch 50/100\n",
            "12/12 [==============================] - 0s 2ms/step - loss: 4.9673\n",
            "Epoch 51/100\n",
            "12/12 [==============================] - 0s 1ms/step - loss: 4.9464\n",
            "Epoch 52/100\n",
            "12/12 [==============================] - 0s 2ms/step - loss: 4.8899\n",
            "Epoch 53/100\n",
            "12/12 [==============================] - 0s 2ms/step - loss: 4.8707\n",
            "Epoch 54/100\n",
            "12/12 [==============================] - 0s 2ms/step - loss: 5.0062\n",
            "Epoch 55/100\n",
            "12/12 [==============================] - 0s 2ms/step - loss: 5.0938\n",
            "Epoch 56/100\n",
            "12/12 [==============================] - 0s 2ms/step - loss: 5.2593\n",
            "Epoch 57/100\n",
            "12/12 [==============================] - 0s 2ms/step - loss: 5.3566\n",
            "Epoch 58/100\n",
            "12/12 [==============================] - 0s 2ms/step - loss: 5.5046\n",
            "Epoch 59/100\n",
            "12/12 [==============================] - 0s 1ms/step - loss: 5.1578\n",
            "Epoch 60/100\n",
            "12/12 [==============================] - 0s 2ms/step - loss: 5.0542\n",
            "Epoch 61/100\n",
            "12/12 [==============================] - 0s 2ms/step - loss: 5.0808\n",
            "Epoch 62/100\n",
            "12/12 [==============================] - 0s 2ms/step - loss: 4.8605\n",
            "Epoch 63/100\n",
            "12/12 [==============================] - 0s 2ms/step - loss: 4.9123\n",
            "Epoch 64/100\n",
            "12/12 [==============================] - 0s 2ms/step - loss: 4.8383\n",
            "Epoch 65/100\n",
            "12/12 [==============================] - 0s 2ms/step - loss: 4.8110\n",
            "Epoch 66/100\n",
            "12/12 [==============================] - 0s 2ms/step - loss: 4.8221\n",
            "Epoch 67/100\n",
            "12/12 [==============================] - 0s 2ms/step - loss: 4.8475\n",
            "Epoch 68/100\n",
            "12/12 [==============================] - 0s 2ms/step - loss: 4.8375\n",
            "Epoch 69/100\n",
            "12/12 [==============================] - 0s 2ms/step - loss: 5.0420\n",
            "Epoch 70/100\n",
            "12/12 [==============================] - 0s 2ms/step - loss: 5.0249\n",
            "Epoch 71/100\n",
            "12/12 [==============================] - 0s 2ms/step - loss: 5.2253\n",
            "Epoch 72/100\n",
            "12/12 [==============================] - 0s 2ms/step - loss: 4.8274\n",
            "Epoch 73/100\n",
            "12/12 [==============================] - 0s 2ms/step - loss: 4.8247\n",
            "Epoch 74/100\n",
            "12/12 [==============================] - 0s 2ms/step - loss: 4.6936\n",
            "Epoch 75/100\n",
            "12/12 [==============================] - 0s 2ms/step - loss: 4.7573\n",
            "Epoch 76/100\n",
            "12/12 [==============================] - 0s 2ms/step - loss: 4.9218\n",
            "Epoch 77/100\n",
            "12/12 [==============================] - 0s 2ms/step - loss: 4.8242\n",
            "Epoch 78/100\n",
            "12/12 [==============================] - 0s 1ms/step - loss: 5.0142\n",
            "Epoch 79/100\n",
            "12/12 [==============================] - 0s 2ms/step - loss: 4.8442\n",
            "Epoch 80/100\n",
            "12/12 [==============================] - 0s 1ms/step - loss: 4.8373\n",
            "Epoch 81/100\n",
            "12/12 [==============================] - 0s 2ms/step - loss: 4.7173\n",
            "Epoch 82/100\n",
            "12/12 [==============================] - 0s 2ms/step - loss: 4.6421\n",
            "Epoch 83/100\n",
            "12/12 [==============================] - 0s 2ms/step - loss: 4.7401\n",
            "Epoch 84/100\n",
            "12/12 [==============================] - 0s 3ms/step - loss: 4.6634\n",
            "Epoch 85/100\n",
            "12/12 [==============================] - 0s 2ms/step - loss: 4.8789\n",
            "Epoch 86/100\n",
            "12/12 [==============================] - 0s 2ms/step - loss: 4.6853\n",
            "Epoch 87/100\n",
            "12/12 [==============================] - 0s 2ms/step - loss: 6.2211\n",
            "Epoch 88/100\n",
            "12/12 [==============================] - 0s 2ms/step - loss: 6.2515\n",
            "Epoch 89/100\n",
            "12/12 [==============================] - 0s 2ms/step - loss: 5.0000\n",
            "Epoch 90/100\n",
            "12/12 [==============================] - 0s 2ms/step - loss: 5.0098\n",
            "Epoch 91/100\n",
            "12/12 [==============================] - 0s 2ms/step - loss: 4.8402\n",
            "Epoch 92/100\n",
            "12/12 [==============================] - 0s 2ms/step - loss: 4.7242\n",
            "Epoch 93/100\n",
            "12/12 [==============================] - 0s 2ms/step - loss: 4.6102\n",
            "Epoch 94/100\n",
            "12/12 [==============================] - 0s 2ms/step - loss: 4.6006\n",
            "Epoch 95/100\n",
            "12/12 [==============================] - 0s 2ms/step - loss: 4.5359\n",
            "Epoch 96/100\n",
            "12/12 [==============================] - 0s 2ms/step - loss: 4.6438\n",
            "Epoch 97/100\n",
            "12/12 [==============================] - 0s 2ms/step - loss: 4.5454\n",
            "Epoch 98/100\n",
            "12/12 [==============================] - 0s 2ms/step - loss: 4.5486\n",
            "Epoch 99/100\n",
            "12/12 [==============================] - 0s 2ms/step - loss: 4.5677\n",
            "Epoch 100/100\n",
            "12/12 [==============================] - 0s 2ms/step - loss: 4.4718\n"
          ],
          "name": "stdout"
        },
        {
          "output_type": "execute_result",
          "data": {
            "text/plain": [
              "<tensorflow.python.keras.callbacks.History at 0x7f0ac8f79c10>"
            ]
          },
          "metadata": {
            "tags": []
          },
          "execution_count": 102
        }
      ]
    },
    {
      "cell_type": "code",
      "metadata": {
        "colab": {
          "base_uri": "https://localhost:8080/"
        },
        "id": "9b7y8OevUWER",
        "outputId": "5b3194bb-793d-4c8a-b73a-eeb1cbf0fb6d"
      },
      "source": [
        ""
      ],
      "execution_count": 98,
      "outputs": [
        {
          "output_type": "stream",
          "text": [
            "Model: \"sequential_2\"\n",
            "_________________________________________________________________\n",
            "Layer (type)                 Output Shape              Param #   \n",
            "=================================================================\n",
            "dense_layer1 (Dense)         (None, 128)               1792      \n",
            "_________________________________________________________________\n",
            "dense_layer2 (Dense)         (None, 64)                8256      \n",
            "_________________________________________________________________\n",
            "dense_output (Dense)         (None, 1)                 65        \n",
            "=================================================================\n",
            "Total params: 10,113\n",
            "Trainable params: 10,113\n",
            "Non-trainable params: 0\n",
            "_________________________________________________________________\n"
          ],
          "name": "stdout"
        }
      ]
    },
    {
      "cell_type": "code",
      "metadata": {
        "colab": {
          "base_uri": "https://localhost:8080/"
        },
        "id": "TMdCIz4-U3nc",
        "outputId": "19fb6a62-3b50-49bd-996f-225b3d4d3b08"
      },
      "source": [
        "loss = model.evaluate(X_test,y_test)"
      ],
      "execution_count": 103,
      "outputs": [
        {
          "output_type": "stream",
          "text": [
            "5/5 [==============================] - 0s 2ms/step - loss: 19.4422\n"
          ],
          "name": "stdout"
        }
      ]
    },
    {
      "cell_type": "code",
      "metadata": {
        "colab": {
          "base_uri": "https://localhost:8080/"
        },
        "id": "f9gelmCug4Yy",
        "outputId": "2bf4cfe6-34f3-413a-d6af-965754b345f6"
      },
      "source": [
        "print(\"Mean squared error on test data: \", loss)"
      ],
      "execution_count": 104,
      "outputs": [
        {
          "output_type": "stream",
          "text": [
            "Mean squared error on test data:  19.442230224609375\n"
          ],
          "name": "stdout"
        }
      ]
    },
    {
      "cell_type": "code",
      "metadata": {
        "id": "C0IqDlDhhhE-"
      },
      "source": [
        "# model is overfitting now, we will use early stopping to solve this issue"
      ],
      "execution_count": null,
      "outputs": []
    }
  ]
}